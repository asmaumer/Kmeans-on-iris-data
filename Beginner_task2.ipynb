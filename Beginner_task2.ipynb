{
  "nbformat": 4,
  "nbformat_minor": 0,
  "metadata": {
    "colab": {
      "name": "Beginner task2.ipynb",
      "provenance": [],
      "collapsed_sections": [],
      "authorship_tag": "ABX9TyO4Hi/njmFK4LvDB3FUXsuv",
      "include_colab_link": true
    },
    "kernelspec": {
      "name": "python3",
      "display_name": "Python 3"
    },
    "language_info": {
      "name": "python"
    }
  },
  "cells": [
    {
      "cell_type": "markdown",
      "metadata": {
        "id": "view-in-github",
        "colab_type": "text"
      },
      "source": [
        "<a href=\"https://colab.research.google.com/github/asmaumer/Kmeans-on-iris-data/blob/main/Beginner_task2.ipynb\" target=\"_parent\"><img src=\"https://colab.research.google.com/assets/colab-badge.svg\" alt=\"Open In Colab\"/></a>"
      ]
    },
    {
      "cell_type": "markdown",
      "metadata": {
        "id": "p0nJJ08HgBEY"
      },
      "source": [
        "###**Task: Predict the optimum number of clusters and represent it visually.**"
      ]
    },
    {
      "cell_type": "code",
      "metadata": {
        "id": "F7XD6Soff_OF"
      },
      "source": [
        "import numpy as np\n",
        "import matplotlib.pyplot as plt\n",
        "import pandas as pd\n",
        "from sklearn.cluster import KMeans"
      ],
      "execution_count": 20,
      "outputs": []
    },
    {
      "cell_type": "markdown",
      "metadata": {
        "id": "6vBzj3tTio-n"
      },
      "source": [
        "###**Loading Dataset...**"
      ]
    },
    {
      "cell_type": "code",
      "metadata": {
        "colab": {
          "base_uri": "https://localhost:8080/",
          "height": 203
        },
        "id": "Ojevv-bg3nY-",
        "outputId": "7c5876be-b7f5-46ca-e0eb-81813c060250"
      },
      "source": [
        "#reading the csv file\n",
        "\n",
        "iris = pd.read_csv(\"/content/Iris.csv\")\n",
        "iris.head()"
      ],
      "execution_count": 21,
      "outputs": [
        {
          "output_type": "execute_result",
          "data": {
            "text/html": [
              "<div>\n",
              "<style scoped>\n",
              "    .dataframe tbody tr th:only-of-type {\n",
              "        vertical-align: middle;\n",
              "    }\n",
              "\n",
              "    .dataframe tbody tr th {\n",
              "        vertical-align: top;\n",
              "    }\n",
              "\n",
              "    .dataframe thead th {\n",
              "        text-align: right;\n",
              "    }\n",
              "</style>\n",
              "<table border=\"1\" class=\"dataframe\">\n",
              "  <thead>\n",
              "    <tr style=\"text-align: right;\">\n",
              "      <th></th>\n",
              "      <th>Id</th>\n",
              "      <th>SepalLengthCm</th>\n",
              "      <th>SepalWidthCm</th>\n",
              "      <th>PetalLengthCm</th>\n",
              "      <th>PetalWidthCm</th>\n",
              "      <th>Species</th>\n",
              "    </tr>\n",
              "  </thead>\n",
              "  <tbody>\n",
              "    <tr>\n",
              "      <th>0</th>\n",
              "      <td>1</td>\n",
              "      <td>5.1</td>\n",
              "      <td>3.5</td>\n",
              "      <td>1.4</td>\n",
              "      <td>0.2</td>\n",
              "      <td>Iris-setosa</td>\n",
              "    </tr>\n",
              "    <tr>\n",
              "      <th>1</th>\n",
              "      <td>2</td>\n",
              "      <td>4.9</td>\n",
              "      <td>3.0</td>\n",
              "      <td>1.4</td>\n",
              "      <td>0.2</td>\n",
              "      <td>Iris-setosa</td>\n",
              "    </tr>\n",
              "    <tr>\n",
              "      <th>2</th>\n",
              "      <td>3</td>\n",
              "      <td>4.7</td>\n",
              "      <td>3.2</td>\n",
              "      <td>1.3</td>\n",
              "      <td>0.2</td>\n",
              "      <td>Iris-setosa</td>\n",
              "    </tr>\n",
              "    <tr>\n",
              "      <th>3</th>\n",
              "      <td>4</td>\n",
              "      <td>4.6</td>\n",
              "      <td>3.1</td>\n",
              "      <td>1.5</td>\n",
              "      <td>0.2</td>\n",
              "      <td>Iris-setosa</td>\n",
              "    </tr>\n",
              "    <tr>\n",
              "      <th>4</th>\n",
              "      <td>5</td>\n",
              "      <td>5.0</td>\n",
              "      <td>3.6</td>\n",
              "      <td>1.4</td>\n",
              "      <td>0.2</td>\n",
              "      <td>Iris-setosa</td>\n",
              "    </tr>\n",
              "  </tbody>\n",
              "</table>\n",
              "</div>"
            ],
            "text/plain": [
              "   Id  SepalLengthCm  SepalWidthCm  PetalLengthCm  PetalWidthCm      Species\n",
              "0   1            5.1           3.5            1.4           0.2  Iris-setosa\n",
              "1   2            4.9           3.0            1.4           0.2  Iris-setosa\n",
              "2   3            4.7           3.2            1.3           0.2  Iris-setosa\n",
              "3   4            4.6           3.1            1.5           0.2  Iris-setosa\n",
              "4   5            5.0           3.6            1.4           0.2  Iris-setosa"
            ]
          },
          "metadata": {},
          "execution_count": 21
        }
      ]
    },
    {
      "cell_type": "markdown",
      "metadata": {
        "id": "VqDWa4-ngmr-"
      },
      "source": [
        "Now, Plotting a graph for identifying the patterns in our data."
      ]
    },
    {
      "cell_type": "code",
      "metadata": {
        "colab": {
          "base_uri": "https://localhost:8080/",
          "height": 298
        },
        "id": "-ADLEmZA46L1",
        "outputId": "9517af05-258e-41d7-b088-68469cc9011d"
      },
      "source": [
        "#Scatter plotting\n",
        "\n",
        "plt.scatter(iris['SepalLengthCm'],iris['SepalWidthCm'], iris['PetalLengthCm'], iris['PetalWidthCm'])\n",
        "plt.title('K-Means Clustering')\n"
      ],
      "execution_count": 6,
      "outputs": [
        {
          "output_type": "execute_result",
          "data": {
            "text/plain": [
              "Text(0.5, 1.0, 'K-Means Clustering')"
            ]
          },
          "metadata": {},
          "execution_count": 6
        },
        {
          "output_type": "display_data",
          "data": {
            "image/png": "[encoded data removed]",
            "text/plain": [
              "<Figure size 432x288 with 1 Axes>"
            ]
          },
          "metadata": {
            "needs_background": "light"
          }
        }
      ]
    },
    {
      "cell_type": "markdown",
      "metadata": {
        "id": "6HozShddjtKj"
      },
      "source": [
        "###**Optimum number of clusters for K-means classification**"
      ]
    },
    {
      "cell_type": "code",
      "metadata": {
        "id": "QpAQwLJb46PI",
        "colab": {
          "base_uri": "https://localhost:8080/",
          "height": 312
        },
        "outputId": "921ce5b5-450e-411a-8e49-9b27485b4043"
      },
      "source": [
        "#To find the optimal number of clusters for k-means\n",
        "\n",
        "#Selecting the features\n",
        "x = iris.iloc[:, 0:3].values\n",
        "\n",
        "#WCSS meathod\n",
        "WCSS = []\n",
        "\n",
        "for i in range(1,11):\n",
        "  kmeans = KMeans(n_clusters = i, init = 'k-means++', \n",
        "                  max_iter = 300, n_init = 10, random_state = 0)\n",
        "  kmeans.fit(x)\n",
        "  WCSS.append(kmeans.inertia_)\n",
        "\n",
        "# Plotting the results onto a line graph\n",
        "number_clusters = range(1,11)\n",
        "plt.plot(number_clusters,WCSS)\n",
        "plt.title('The Elbow Method')\n",
        "plt.xlabel('Number of clusters')\n",
        "plt.ylabel('Within-Cluster-Sum-of-Square')\n",
        "plt.grid(color = 'black', linestyle = '--', linewidth = 0.5)\n",
        "plt.ylim(bottom=-1)"
      ],
      "execution_count": 22,
      "outputs": [
        {
          "output_type": "execute_result",
          "data": {
            "text/plain": [
              "(-1.0, 295291.1421678851)"
            ]
          },
          "metadata": {},
          "execution_count": 22
        },
        {
          "output_type": "display_data",
          "data": {
            "image/png": "[encoded data removed]",
            "text/plain": [
              "<Figure size 432x288 with 1 Axes>"
            ]
          },
          "metadata": {
            "needs_background": "light"
          }
        }
      ]
    },
    {
      "cell_type": "markdown",
      "metadata": {
        "id": "RST0_LXMAcIi"
      },
      "source": [
        "This is called 'The elbow method', the optimum clusters is where the elbow occurs. Since the WCSS does not significantly decrease after that.\n",
        "- As observed from the graph, the no. of optimal clusters would be \"3\"."
      ]
    },
    {
      "cell_type": "markdown",
      "metadata": {
        "id": "svNzeCsSkoJN"
      },
      "source": [
        "###**K-Means Clustering:**"
      ]
    },
    {
      "cell_type": "code",
      "metadata": {
        "id": "zrUJ7nOOANLo"
      },
      "source": [
        "#Now applying kmeans to the dataset \n",
        "kmeans = KMeans(n_clusters = 3, init = 'k-means++',max_iter = 300, n_init = 10, random_state = 0)\n",
        "\n",
        "#Creating the kmeans classifier\n",
        "y_kmeans = kmeans.fit_predict(x)"
      ],
      "execution_count": 23,
      "outputs": []
    },
    {
      "cell_type": "code",
      "metadata": {
        "colab": {
          "base_uri": "https://localhost:8080/"
        },
        "id": "4W4FqnPglZUJ",
        "outputId": "715ae0d0-7f68-4375-bac4-efa292c89468"
      },
      "source": [
        "# Get labels and cluster centroids\n",
        "labels = kmeans.labels_\n",
        "centroids = kmeans.cluster_centers_\n",
        "print('Labels: ')\n",
        "print(labels)\n",
        "print('Centroids: ')\n",
        "print(centroids)"
      ],
      "execution_count": 24,
      "outputs": [
        {
          "output_type": "stream",
          "name": "stdout",
          "text": [
            "Labels: \n",
            "[1 1 1 1 1 1 1 1 1 1 1 1 1 1 1 1 1 1 1 1 1 1 1 1 1 1 1 1 1 1 1 1 1 1 1 1 1\n",
            " 1 1 1 1 1 1 1 1 1 1 1 1 1 2 2 2 2 2 2 2 2 2 2 2 2 2 2 2 2 2 2 2 2 2 2 2 2\n",
            " 2 2 2 2 2 2 2 2 2 2 2 2 2 2 2 2 2 2 2 2 2 2 2 2 2 2 0 0 0 0 0 0 0 0 0 0 0\n",
            " 0 0 0 0 0 0 0 0 0 0 0 0 0 0 0 0 0 0 0 0 0 0 0 0 0 0 0 0 0 0 0 0 0 0 0 0 0\n",
            " 0 0]\n",
            "Centroids: \n",
            "[[125.5     6.588   2.974]\n",
            " [ 25.5     5.006   3.418]\n",
            " [ 75.5     5.936   2.77 ]]\n"
          ]
        }
      ]
    },
    {
      "cell_type": "markdown",
      "metadata": {
        "id": "PLyBrqv8lYej"
      },
      "source": [
        "###**Visually representing the clusters:**"
      ]
    },
    {
      "cell_type": "code",
      "metadata": {
        "colab": {
          "base_uri": "https://localhost:8080/",
          "height": 286
        },
        "id": "oCYVpmqRBbKQ",
        "outputId": "ecf1d2c6-28c2-4803-cba4-cf21e24df0a6"
      },
      "source": [
        "#Visualizing the clusters\n",
        "plt.scatter(x[y_kmeans == 0, 0], x[y_kmeans == 0, 1], s = 20, c = 'green', label = 'Iris-setosa')\n",
        "plt.scatter(x[y_kmeans == 1, 0], x[y_kmeans == 1, 1], s = 20, c = 'red', label = 'Iris-versicolour')\n",
        "plt.scatter(x[y_kmeans == 2, 0], x[y_kmeans == 2, 1], s = 20, c= 'blue', label = 'Iris-virginica')\n",
        "\n",
        "# Plotting the centroids of the clusters\n",
        "plt.scatter(kmeans.cluster_centers_[:, 0], kmeans.cluster_centers_[:,1], \n",
        "            s = 50, c = 'yellow', label = 'Centroids')\n",
        "\n",
        "\n",
        "plt.legend()\n",
        "plt.grid(color = 'black', linestyle = '--', linewidth = 0.5)\n",
        "plt.ylim(top=8.5)"
      ],
      "execution_count": 26,
      "outputs": [
        {
          "output_type": "execute_result",
          "data": {
            "text/plain": [
              "(4.12, 8.5)"
            ]
          },
          "metadata": {},
          "execution_count": 26
        },
        {
          "output_type": "display_data",
          "data": {
            "image/png": "[encoded data removed]",
            "text/plain": [
              "<Figure size 432x288 with 1 Axes>"
            ]
          },
          "metadata": {
            "needs_background": "light"
          }
        }
      ]
    }
  ]
}